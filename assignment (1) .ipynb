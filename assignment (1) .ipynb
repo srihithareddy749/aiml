{
  "nbformat": 4,
  "nbformat_minor": 0,
  "metadata": {
    "colab": {
      "provenance": [],
      "authorship_tag": "ABX9TyPuwmnKUdCFAphuCkAYMzrp",
      "include_colab_link": true
    },
    "kernelspec": {
      "name": "python3",
      "display_name": "Python 3"
    },
    "language_info": {
      "name": "python"
    }
  },
  "cells": [
    {
      "cell_type": "markdown",
      "metadata": {
        "id": "view-in-github",
        "colab_type": "text"
      },
      "source": [
        "<a href=\"https://colab.research.google.com/github/srihithareddy749/aiml/blob/main/assignment%20(1)%20.ipynb\" target=\"_parent\"><img src=\"https://colab.research.google.com/assets/colab-badge.svg\" alt=\"Open In Colab\"/></a>"
      ]
    },
    {
      "cell_type": "code",
      "execution_count": 1,
      "metadata": {
        "colab": {
          "base_uri": "https://localhost:8080/"
        },
        "id": "Kg8ZA6XNH68C",
        "outputId": "bac7f819-5395-4e6c-f77c-b95778ed28bd"
      },
      "outputs": [
        {
          "output_type": "stream",
          "name": "stdout",
          "text": [
            "LISTS\n",
            "[1, 2, 3, 4, 5]\n",
            "ARRAYS\n",
            "[ 6 17  8 29  5]\n",
            "[ 1  2 23  4 45]\n",
            "DATA TYPES\n",
            "<class 'numpy.ndarray'>\n",
            "<class 'numpy.ndarray'>\n",
            "MULTIPLICATION AND DIVISION OF ARRAYS\n",
            "Multiplication of arrays: [  6  34 184 116 225]\n",
            "Division of arrays: [0.16666667 0.11764706 2.875      0.13793103 9.        ]\n",
            "Power of array1 elements: [ 36 289  64 841  25]\n",
            "ADDITION OF ARRAYS\n",
            "[ 7 19 31 33 50]\n",
            "IMPLEMENTATIONS\n",
            "Exponential of array1: [4.03428793e+02 2.41549528e+07 2.98095799e+03 3.93133430e+12\n",
            " 1.48413159e+02]\n",
            "Sine of array1: [-0.2794155  -0.96139749  0.98935825 -0.66363388 -0.95892427]\n",
            "LOG()\n",
            "[1.79175947 2.83321334 2.07944154 3.36729583 1.60943791]\n",
            "LOG2\n",
            "[2.5849625  4.08746284 3.         4.857981   2.32192809]\n"
          ]
        }
      ],
      "source": [
        "import numpy as np\n",
        "import pandas as pd\n",
        "print(\"LISTS\")\n",
        "a = [1, 2, 3, 4, 5]\n",
        "print(a)\n",
        "print(\"ARRAYS\")\n",
        "array1=np.array([6,17,8,29,5])\n",
        "array2=np.array([1,2,23,4,45])\n",
        "print(array1)\n",
        "print(array2)\n",
        "print(\"DATA TYPES\")\n",
        "print(type(array1))\n",
        "print(type(array2))\n",
        "print(\"MULTIPLICATION AND DIVISION OF ARRAYS\")\n",
        "mult_array = array1 * array2\n",
        "print(\"Multiplication of arrays:\", mult_array)\n",
        "div_array = array2 / array1\n",
        "print(\"Division of arrays:\", div_array)\n",
        "power_array = np.power(array1, 2)\n",
        "print(\"Power of array1 elements:\", power_array)\n",
        "print(\"ADDITION OF ARRAYS\")\n",
        "add=array1+array2\n",
        "print(add)\n",
        "print(\"IMPLEMENTATIONS\")\n",
        "\n",
        "exp_array1 = np.exp(array1)\n",
        "print(\"Exponential of array1:\", exp_array1)\n",
        "\n",
        "sin_array1 = np.sin(array1)\n",
        "print(\"Sine of array1:\", sin_array1)\n",
        "print(\"LOG()\")\n",
        "result = np.log(array1)\n",
        "print(result)\n",
        "print(\"LOG2\")\n",
        "print(np.log2(array1))"
      ]
    }
  ]
}