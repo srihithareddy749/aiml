{
  "nbformat": 4,
  "nbformat_minor": 0,
  "metadata": {
    "colab": {
      "provenance": [],
      "authorship_tag": "ABX9TyPtFBloKUk+iXW3JO1gaShv",
      "include_colab_link": true
    },
    "kernelspec": {
      "name": "python3",
      "display_name": "Python 3"
    },
    "language_info": {
      "name": "python"
    }
  },
  "cells": [
    {
      "cell_type": "markdown",
      "metadata": {
        "id": "view-in-github",
        "colab_type": "text"
      },
      "source": [
        "<a href=\"https://colab.research.google.com/github/srihithareddy749/aiml/blob/main/lab%20exam%20.ipynb\" target=\"_parent\"><img src=\"https://colab.research.google.com/assets/colab-badge.svg\" alt=\"Open In Colab\"/></a>"
      ]
    },
    {
      "cell_type": "code",
      "source": [
        "import pandas as pd\n",
        "import numpy as np\n",
        "import matplotlib.pyplot as plt\n",
        "from sklearn.model_selection import train_test_split\n",
        "from sklearn.ensemble import RandomForestClassifier\n",
        "from sklearn.cluster import KMeans\n",
        "from sklearn.metrics import classification_report\n"
      ],
      "metadata": {
        "id": "Bp4a9A9If6xj"
      },
      "execution_count": 5,
      "outputs": []
    },
    {
      "cell_type": "code",
      "source": [
        "# Sample dataset\n",
        "data = {\n",
        "    \"Student ID\": [1, 2, 3, 4, 5],\n",
        "    \"Mother Employed\": [\"Yes\", \"No\", \"Yes\", \"Yes\", \"No\"],\n",
        "    \"Father Employed\": [\"Yes\", \"Yes\", \"No\", \"Yes\", \"Yes\"]\n",
        "}\n",
        "\n",
        "# Create a DataFrame from the sample dataset\n",
        "import pandas as pd\n",
        "df = pd.DataFrame(data)\n",
        "\n",
        "# Count students with both mother and father employed\n",
        "both_employed = df[(df[\"Mother Employed\"] == \"Yes\") & (df[\"Father Employed\"] == \"Yes\")].shape[0]\n",
        "\n",
        "print(f\"Number of students with both mother and father employed: {both_employed}\")"
      ],
      "metadata": {
        "colab": {
          "base_uri": "https://localhost:8080/"
        },
        "id": "EVEi-0SwhjEC",
        "outputId": "3e22b738-940b-4963-8064-7dd9df70dc4d"
      },
      "execution_count": 14,
      "outputs": [
        {
          "output_type": "stream",
          "name": "stdout",
          "text": [
            "Number of students with both mother and father employed: 2\n"
          ]
        }
      ]
    },
    {
      "cell_type": "code",
      "source": [
        "# Sample dataset\n",
        "data = {\n",
        "    \"Student ID\": [1, 2, 3, 4, 5],\n",
        "    \"Mother Employed\": [\"Yes\", \"No\", \"Yes\", \"Yes\", \"No\"],\n",
        "    \"Father Employed\": [\"Yes\", \"Yes\", \"No\", \"Yes\", \"Yes\"]\n",
        "}\n",
        "\n",
        "# Create a DataFrame from the sample dataset\n",
        "import pandas as pd\n",
        "df = pd.DataFrame(data)\n",
        "\n",
        "# Count students with both mother and father employed\n",
        "both_employed = df[(df[\"Mother Employed\"] == \"Yes\") & (df[\"Father Employed\"] == \"Yes\")].shape[0]\n",
        "\n",
        "print(f\"Number of students with both mother and father employed: {both_employed}\")"
      ],
      "metadata": {
        "colab": {
          "base_uri": "https://localhost:8080/"
        },
        "id": "9RRVy9nwhrTC",
        "outputId": "917b4016-0ee5-4857-998f-dedaf88ed8e1"
      },
      "execution_count": 15,
      "outputs": [
        {
          "output_type": "stream",
          "name": "stdout",
          "text": [
            "Number of students with both mother and father employed: 2\n"
          ]
        }
      ]
    },
    {
      "cell_type": "code",
      "source": [
        "# Sample dataset\n",
        "data = {\n",
        "    \"School ID\": [1, 2, 3, 4, 5],\n",
        "    \"Medium of Instruction\": [\"English\", \"Hindi\", \"English\", \"Hindi\", \"English\"]\n",
        "}\n",
        "\n",
        "# Create a DataFrame from the sample dataset\n",
        "import pandas as pd\n",
        "df = pd.DataFrame(data)\n",
        "\n",
        "# Count the frequency of each medium of instruction\n",
        "medium_counts = df[\"Medium of Instruction\"].value_counts()\n",
        "\n",
        "# Get the medium of instruction with the highest frequency\n",
        "most_used_medium = medium_counts.idxmax()\n",
        "\n",
        "print(f\"The most used medium of instruction is: {most_used_medium}\")\n"
      ],
      "metadata": {
        "colab": {
          "base_uri": "https://localhost:8080/"
        },
        "id": "lTgiMGsNh-em",
        "outputId": "93402192-0a13-4c6b-a96d-837f07bbea0f"
      },
      "execution_count": 18,
      "outputs": [
        {
          "output_type": "stream",
          "name": "stdout",
          "text": [
            "The most used medium of instruction is: English\n"
          ]
        }
      ]
    },
    {
      "cell_type": "code",
      "source": [
        "\n",
        "# Import necessary libraries\n",
        "import pandas as pd\n",
        "import numpy as np\n",
        "from sklearn.linear_model import LinearRegression\n",
        "import matplotlib.pyplot as plt\n",
        "\n",
        "# Sample dataset\n",
        "data = {\n",
        "    \"Student ID\": [1, 2, 3, 4, 5],\n",
        "    \"GPA\": [3.5, 3.2, 3.8, 3.1, 3.6],\n",
        "    \"Extra-Curricular Activities\": [2, 1, 3, 1, 2]\n",
        "}\n",
        "\n",
        "# Create a DataFrame from the sample dataset\n",
        "df = pd.DataFrame(data)\n",
        "\n",
        "# Define the independent (X) and dependent (y) variables\n",
        "X = df[[\"Extra-Curricular Activities\"]]\n",
        "y = df[\"GPA\"]\n",
        "\n",
        "# Create a Linear Regression model\n",
        "model = LinearRegression()\n",
        "\n",
        "# Train the model using the data\n",
        "model.fit(X, y)\n",
        "\n",
        "# Make predictions using the model\n",
        "y_pred = model.predict(X)\n",
        "\n",
        "# Evaluate the model's performance\n",
        "r_squared = model.score(X, y)\n",
        "print(f\"Coefficient of determination (R-squared): {r_squared:.2f}\")\n",
        "\n",
        "# Plot a scatter plot of the data with the regression line\n",
        "plt.scatter(X, y)\n",
        "plt.plot(X, y_pred, color=\"red\")\n",
        "plt.xlabel(\"Extra-Curricular Activities\")\n",
        "plt.ylabel(\"GPA\")\n",
        "plt.title(\"Impact of Extra-Curricular Activities on GPA\")\n",
        "plt.show()\n",
        "\n"
      ],
      "metadata": {
        "colab": {
          "base_uri": "https://localhost:8080/",
          "height": 489
        },
        "id": "R3866p6-iFW2",
        "outputId": "84f633c8-e707-4146-e3a4-d6931000bb46"
      },
      "execution_count": 19,
      "outputs": [
        {
          "output_type": "stream",
          "name": "stdout",
          "text": [
            "Coefficient of determination (R-squared): 0.95\n"
          ]
        },
        {
          "output_type": "display_data",
          "data": {
            "text/plain": [
              "<Figure size 640x480 with 1 Axes>"
            ],
            "image/png": "[encoded data removed]"
          },
          "metadata": {}
        }
      ]
    }
  ]
}